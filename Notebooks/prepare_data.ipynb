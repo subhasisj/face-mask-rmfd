{
 "cells": [
  {
   "cell_type": "code",
   "execution_count": 1,
   "metadata": {},
   "outputs": [],
   "source": [
    "from pathlib import Path\n",
    "import pandas as pd\n",
    "from tqdm import tqdm"
   ]
  },
  {
   "cell_type": "code",
   "execution_count": 2,
   "metadata": {},
   "outputs": [],
   "source": [
    "datasetPath = Path('../Data')"
   ]
  },
  {
   "cell_type": "code",
   "execution_count": 4,
   "metadata": {},
   "outputs": [],
   "source": [
    "maskPath = datasetPath/'AFDB_masked_face_dataset'\n",
    "nonMaskPath = datasetPath/'AFDB_face_dataset'\n",
    "maskDF = pd.DataFrame()"
   ]
  },
  {
   "cell_type": "code",
   "execution_count": 5,
   "metadata": {
    "tags": []
   },
   "outputs": [
    {
     "output_type": "stream",
     "name": "stderr",
     "text": "mask photos: 100%|██████████| 525/525 [00:13<00:00, 38.03it/s]\n"
    }
   ],
   "source": [
    "for subject in tqdm(list(maskPath.iterdir()), desc='mask photos'):\n",
    "    for imgPath in subject.iterdir():\n",
    "        maskDF = maskDF.append({\n",
    "            'image': str(imgPath),\n",
    "            'mask': 1\n",
    "        }, ignore_index=True)"
   ]
  },
  {
   "cell_type": "code",
   "execution_count": 6,
   "metadata": {
    "tags": []
   },
   "outputs": [
    {
     "output_type": "stream",
     "name": "stderr",
     "text": "non mask photos: 100%|██████████| 460/460 [09:02<00:00,  1.18s/it]\n"
    }
   ],
   "source": [
    "for subject in tqdm(list(nonMaskPath.iterdir()), desc='non mask photos'):\n",
    "    for imgPath in subject.iterdir():\n",
    "        maskDF = maskDF.append({\n",
    "            'image': str(imgPath),\n",
    "            'mask': 0\n",
    "        }, ignore_index=True)"
   ]
  },
  {
   "cell_type": "code",
   "execution_count": 7,
   "metadata": {
    "tags": []
   },
   "outputs": [
    {
     "output_type": "stream",
     "name": "stdout",
     "text": "saving Dataframe to: ..\\Data\\mask_df.pickle\n"
    }
   ],
   "source": [
    "dfName = datasetPath/'mask_df.pickle'\n",
    "print(f'saving Dataframe to: {dfName}')\n",
    "maskDF.to_pickle(dfName)"
   ]
  },
  {
   "cell_type": "code",
   "execution_count": null,
   "metadata": {},
   "outputs": [],
   "source": []
  }
 ],
 "metadata": {
  "language_info": {
   "codemirror_mode": {
    "name": "ipython",
    "version": 3
   },
   "file_extension": ".py",
   "mimetype": "text/x-python",
   "name": "python",
   "nbconvert_exporter": "python",
   "pygments_lexer": "ipython3",
   "version": "3.8.3-final"
  },
  "orig_nbformat": 2,
  "kernelspec": {
   "name": "python38364bitfacemaskdetectioncondabbc34c603e8842f99d319fd75ca39243",
   "display_name": "Python 3.8.3 64-bit ('facemaskdetection': conda)"
  }
 },
 "nbformat": 4,
 "nbformat_minor": 2
}